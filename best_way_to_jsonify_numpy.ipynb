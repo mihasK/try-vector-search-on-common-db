{
 "cells": [
  {
   "cell_type": "markdown",
   "metadata": {},
   "source": [
    "# Best way to jsonify numpy arrray\n"
   ]
  },
  {
   "cell_type": "code",
   "execution_count": 1,
   "metadata": {},
   "outputs": [],
   "source": [
    "# import textwrap\n",
    "import json\n",
    "import numpy as np    \n",
    "\n",
    "# unitility function for this notebook to have nice (not crazy long) output\n",
    "def print_short(obj):\n",
    "    \n",
    "    if isinstance(obj, (list, np.ndarray)):\n",
    "        obj = str(obj)\n",
    "    \n",
    "    # print(obj)\n",
    "\n",
    "    print(obj[:80], '...' if len(obj) >=130 else '')\n"
   ]
  },
  {
   "cell_type": "markdown",
   "metadata": {},
   "source": [
    "### Performance of standard json serializer is poor"
   ]
  },
  {
   "cell_type": "code",
   "execution_count": 2,
   "metadata": {},
   "outputs": [
    {
     "name": "stdout",
     "output_type": "stream",
     "text": [
      "[0.09692152 0.00438261 0.15677369 ... 0.99155533 0.06084263 0.50901854] \n",
      "* numpy => list:\n",
      "15.6 µs ± 98.6 ns per loop (mean ± std. dev. of 7 runs, 10,000 loops each)\n",
      "* numpy => list => json:\n",
      "534 µs ± 3.88 µs per loop (mean ± std. dev. of 7 runs, 1,000 loops each)\n"
     ]
    }
   ],
   "source": [
    "ARRAY_SIZE = 1536  # GPT-4 size\n",
    "\n",
    "array = np.random.rand(ARRAY_SIZE).astype(np.float32)\n",
    "\n",
    "print_short(array)\n",
    "\n",
    "print('* numpy => list:')\n",
    "%timeit array.tolist()\n",
    "\n",
    "print('* numpy => list => json:')\n",
    "%timeit json.dumps(array.tolist())\n"
   ]
  },
  {
   "cell_type": "markdown",
   "metadata": {},
   "source": [
    "### It also can't serialize numpy directly, which causes toubles with precision"
   ]
  },
  {
   "cell_type": "code",
   "execution_count": 3,
   "metadata": {},
   "outputs": [
    {
     "name": "stdout",
     "output_type": "stream",
     "text": [
      "* Converting to list will enforce using of double precision: \n",
      "[0.09692151844501495, 0.004382609855383635, 0.15677368640899658, 0.4102273881435 ...\n",
      "* Original precision is float32:\n",
      "[0.09692152 0.00438261 0.15677369 ... 0.99155533 0.06084263 0.50901854] \n"
     ]
    }
   ],
   "source": [
    "print('* Converting to list will enforce using of double precision: ')\n",
    "print_short(json.dumps(array.tolist()))\n",
    "print('* Original precision is float32:')\n",
    "print_short(array)\n"
   ]
  },
  {
   "cell_type": "markdown",
   "metadata": {},
   "source": [
    "### Let's compare with orjson library"
   ]
  },
  {
   "cell_type": "code",
   "execution_count": 4,
   "metadata": {},
   "outputs": [
    {
     "name": "stdout",
     "output_type": "stream",
     "text": [
      "* ~20x faster serialization:\n",
      "26.1 µs ± 182 ns per loop (mean ± std. dev. of 7 runs, 10,000 loops each)\n",
      "* Correctly handles dtypes, e.g. float32: \n",
      "b'[0.09692152,0.00438261,0.15677369,0.4102274,0.5338793,0.7979747,0.4922122,0.3227' ...\n"
     ]
    }
   ],
   "source": [
    "import orjson\n",
    "\n",
    "print('* ~20x faster serialization:')\n",
    "%timeit orjson.dumps(array, option=orjson.OPT_SERIALIZE_NUMPY,)\n",
    "\n",
    "print('* Correctly handles dtypes, e.g. float32: ')\n",
    "print_short(orjson.dumps(array, option=orjson.OPT_SERIALIZE_NUMPY,))\n",
    "\n"
   ]
  },
  {
   "cell_type": "markdown",
   "metadata": {},
   "source": [
    "### One caveat - orjson uses bytes instead of str, which is probably right thing to do\n",
    "\n",
    "In any case, it's easy to convert to str in case of some compatibility issues"
   ]
  },
  {
   "cell_type": "code",
   "execution_count": 5,
   "metadata": {},
   "outputs": [
    {
     "name": "stdout",
     "output_type": "stream",
     "text": [
      "* Convert to str from bytes: \n",
      "<class 'str'>\n",
      "[0.09692152,0.00438261,0.15677369,0.4102274,0.5338793,0.7979747,0.4922122,0.3227 ...\n"
     ]
    }
   ],
   "source": [
    "print('* Convert to str from bytes: ')\n",
    "\n",
    "s = orjson.dumps(array, option=orjson.OPT_SERIALIZE_NUMPY,).decode('UTF-8')\n",
    "print(type(s))\n",
    "print_short(s)\n"
   ]
  },
  {
   "cell_type": "markdown",
   "metadata": {},
   "source": [
    "### Use in standard module with custom encoder/decoder \n",
    "\n",
    "Standard json module allows easily overriding "
   ]
  },
  {
   "cell_type": "code",
   "execution_count": 6,
   "metadata": {},
   "outputs": [
    {
     "name": "stdout",
     "output_type": "stream",
     "text": [
      "28.2 µs ± 196 ns per loop (mean ± std. dev. of 7 runs, 10,000 loops each)\n",
      "{\"content\":\"Some content\",\"embdeddings\":[0.09692152,0.00438261,0.15677369,0.4102 ...\n"
     ]
    }
   ],
   "source": [
    "# extend the json.JSONEncoder class\n",
    "from typing import Any\n",
    "import json\n",
    "import orjson\n",
    "\n",
    "class FastJSONEncoder(json.JSONEncoder):\n",
    "\n",
    "    def encode(self, o: Any) -> str:\n",
    "        return orjson.dumps(o, option=orjson.OPT_SERIALIZE_NUMPY,).decode('UTF-8')\n",
    "\n",
    "\n",
    "dict_to_jsonify = {\n",
    "    'content': 'Some content',\n",
    "    'embdeddings': array\n",
    "}\n",
    "\n",
    "%timeit json.dumps(dict_to_jsonify, cls=FastJSONEncoder)\n",
    "print_short(json.dumps(dict_to_jsonify, cls=FastJSONEncoder))"
   ]
  },
  {
   "cell_type": "markdown",
   "metadata": {},
   "source": [
    "### Example: storing JSON into Redis "
   ]
  },
  {
   "cell_type": "code",
   "execution_count": 7,
   "metadata": {},
   "outputs": [
    {
     "data": {
      "text/plain": [
       "True"
      ]
     },
     "execution_count": 7,
     "metadata": {},
     "output_type": "execute_result"
    }
   ],
   "source": [
    "# Initialize redis client\n",
    "import redis\n",
    "redis_c = redis.Redis(host='localhost', port=5379, db=0, protocol=3, decode_responses=True)\n",
    "redis_c.ping()"
   ]
  },
  {
   "cell_type": "markdown",
   "metadata": {},
   "source": [
    "### In this case, you need to use standard json interface (i.e., our FastJSONEncoder)"
   ]
  },
  {
   "cell_type": "code",
   "execution_count": 11,
   "metadata": {},
   "outputs": [
    {
     "name": "stdout",
     "output_type": "stream",
     "text": [
      "Naive conversion: ndarray => list => standard json:\n",
      "4.63 ms ± 235 µs per loop (mean ± std. dev. of 7 runs, 100 loops each)\n"
     ]
    }
   ],
   "source": [
    "import random\n",
    "doc = {\n",
    "    'embdeddings': list(np.random.rand(ARRAY_SIZE).astype(np.float64))\n",
    "}\n",
    "print('Naive conversion: ndarray => list => standard json:')\n",
    "\n",
    "%timeit redis_c.json().set(f'key#{random.randint(0,10_000)}', \"$\", doc)"
   ]
  },
  {
   "cell_type": "code",
   "execution_count": 12,
   "metadata": {},
   "outputs": [
    {
     "name": "stdout",
     "output_type": "stream",
     "text": [
      "* Fast orjson encoder:\n",
      "951 µs ± 41.4 µs per loop (mean ± std. dev. of 7 runs, 1,000 loops each)\n"
     ]
    }
   ],
   "source": [
    "doc = {\n",
    "    'content': 'Some content',\n",
    "    'embdeddings': np.random.rand(ARRAY_SIZE).astype(np.float64)\n",
    "}\n",
    "\n",
    "print('* Fast orjson encoder:')\n",
    "%timeit redis_c.json(encoder=FastJSONEncoder()).set(f'key#{random.randint(0,10_000)}', \"$\", doc)"
   ]
  },
  {
   "cell_type": "code",
   "execution_count": null,
   "metadata": {},
   "outputs": [],
   "source": []
  }
 ],
 "metadata": {
  "kernelspec": {
   "display_name": "Python 3 (ipykernel)",
   "language": "python",
   "name": "python3"
  },
  "language_info": {
   "codemirror_mode": {
    "name": "ipython",
    "version": 3
   },
   "file_extension": ".py",
   "mimetype": "text/x-python",
   "name": "python",
   "nbconvert_exporter": "python",
   "pygments_lexer": "ipython3",
   "version": "3.10.13"
  }
 },
 "nbformat": 4,
 "nbformat_minor": 4
}
